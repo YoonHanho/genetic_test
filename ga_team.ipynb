{
  "nbformat": 4,
  "nbformat_minor": 0,
  "metadata": {
    "colab": {
      "name": "ga_team.ipynb",
      "provenance": [],
      "collapsed_sections": []
    },
    "kernelspec": {
      "name": "python3",
      "display_name": "Python 3"
    },
    "language_info": {
      "name": "python"
    }
  },
  "cells": [
    {
      "cell_type": "markdown",
      "metadata": {
        "id": "kA7DPDAQ5rLO"
      },
      "source": [
        "### 유전자 알고리즘 간단 테스트\n",
        "\n",
        "- 문제 정의 \n",
        "  - 팀원(14명)의 점심 조를 짜 보자. 단, 아래 제약 조건 고려   \n",
        "\n",
        "- 제약조건 \n",
        "  - 14명을 4개 조로 나누기\n",
        "  - 조별 인원은 3~4명\n",
        "  - 조별로 시니어(선임,수석매니저) 1명 이상 포함 (조별로 시니어 비중 균일하게)\n",
        "  - 조별로 남자 1명 이상 포함 (조별로 성별 비중 균일하게)\n",
        "\n",
        "- 유전자 알고리즘 적용 \n",
        "  - 제약조건을 패털티로 가산하는 최적화 함수 작성\n",
        "  - 유전자 알고리즘에서는 교배, 변이 등을 발생시켜 최적화 함수의 패널티를 최소화하는 최적해를 찾는다\n",
        "\n",
        "- 유전자 알고리즘 참조 사이트 \n",
        "  - https://pygad.readthedocs.io/en/latest/\n",
        "  - https://data-newbie.tistory.com/m/685"
      ]
    },
    {
      "cell_type": "code",
      "metadata": {
        "id": "KyugaYG1MAgv"
      },
      "source": [
        "!pip install pygad   # 라이브러러 설치 "
      ],
      "execution_count": 2,
      "outputs": []
    },
    {
      "cell_type": "code",
      "metadata": {
        "id": "zu9SF3nfyUFt"
      },
      "source": [
        "import pygad \n",
        "\n",
        "from collections import Counter\n",
        "\n",
        "import numpy as np\n",
        "import pandas as pd"
      ],
      "execution_count": null,
      "outputs": []
    },
    {
      "cell_type": "markdown",
      "metadata": {
        "id": "mT7cIVmh5ZPH"
      },
      "source": [
        "### 학습용 데이터 정의\n",
        "\n",
        "- 팀원 : 14명 \n",
        "- 팀원별 시니어 여부, 남자 여부를 이진 벡터로 구성 "
      ]
    },
    {
      "cell_type": "code",
      "metadata": {
        "id": "1u-JFVNc1LbB"
      },
      "source": [
        "desired_output = 0.0000001   # 적합도 함수 최적값 : 패널티 값이 0\n",
        "\n",
        "senior = [1,1,1,1,1,1,0,0,0,0,0,0,0,0] # 선임이상 = 1 \n",
        "male = [1,1,1,1,1,1,1,0,1,0,0,0,1,0]   # 성별남자 = 1\n",
        "name = ['KYJ', 'YHH', 'KHD', 'LIH', 'KMG', 'LDH', 'LDB', 'LYJ', 'LWR', 'PJH', 'JGE', 'SHJ', 'PJT', 'LDK'] "
      ],
      "execution_count": null,
      "outputs": []
    },
    {
      "cell_type": "code",
      "metadata": {
        "id": "Kcy411gfMDWM"
      },
      "source": [
        "def fitness_func(solution, solution_idx):\n",
        "  \"\"\"  \n",
        "      - 패널티 구조식 정의 : 4가지 조건별 =\n",
        "      - (추가과제) 항목별 패널티 가중치 점수 조합을, 그리드 서치로 찾아봐도 재밌을 듯 \n",
        "  \"\"\"\n",
        "  penalty = 0\t\t            # 패널티 점수 초기화  \n",
        "  freq = Counter(solution)  # GA에서 만든 14명의 조 리스트(solution)의 건수 집계, dict 저장\n",
        "\n",
        "  penalty += (len(freq)-4)*100    # (조건#1) 조의 갯수가 4개가 아니면 패널티 \n",
        " \n",
        "  for value in freq.values():     # (조건#2) 조별 인원수 3,4명 아닌 경우 패널티\n",
        "    if value not in (3,4):\n",
        "      penalty += 10\n",
        "\n",
        "  # (조건#3,4) 조별 선임이상, 남성 비율이 평균 보다 크거나 작으면 패널티\n",
        "  df = pd.DataFrame({'part':solution, 'senior':senior, 'male':male})\n",
        "\n",
        "  senior_avg = df['senior'].mean()\n",
        "  penalty += np.abs( df.groupby(['part'])['senior'].mean().values - senior_avg).sum() * 11\n",
        "\n",
        "  male_avg = df['male'].mean()\n",
        "  penalty += np.abs( df.groupby(['part'])['male'].mean().values - male_avg).sum() * 5\n",
        "    \n",
        "  fitness = 1 / np.abs(penalty - desired_output)  #  0에 가까울수록 4가지 조건을 만족하는 최적해\n",
        "  return fitness\n",
        "\t\n",
        "ga_instance = pygad.GA(num_generations=50,\n",
        "                       num_parents_mating=4,\n",
        "                       fitness_func=fitness_func,\n",
        "                       sol_per_pop=8,\n",
        "                       num_genes=14,      # 입력값 갯수 \n",
        "                       init_range_low=0,  # 값 하한 \n",
        "                       init_range_high=4, # 값 상한 \n",
        "                       parent_selection_type='sss',\n",
        "                       keep_parents=1,\n",
        "                       crossover_type=\"single_point\",\n",
        "                       mutation_type=\"random\",\n",
        "                       mutation_percent_genes=10,\n",
        "                       gene_type=int)    # 정수형 벡터 생성. gene_type = float가 기본 값"
      ],
      "execution_count": null,
      "outputs": []
    },
    {
      "cell_type": "markdown",
      "metadata": {
        "id": "_8EQ3LphALhM"
      },
      "source": [
        "#### 4가지 조건을 모두 만족하는 최적해가 나오면 결과를 출력하고, 반복을 중단한다. "
      ]
    },
    {
      "cell_type": "code",
      "metadata": {
        "colab": {
          "base_uri": "https://localhost:8080/",
          "height": 793
        },
        "id": "HYjpgIIBQz4c",
        "outputId": "3e6c85a6-aebd-4c67-edcb-678f39ef72f9"
      },
      "source": [
        "while True:\n",
        "  ga_instance.run()\n",
        "  solution, solution_fitness, solution_idx = ga_instance.best_solution()\n",
        "  \n",
        "  res = pd.DataFrame({'name':name, 'part':solution, 'senior':senior, 'male':male})  \n",
        "  if res.groupby('part')['senior'].mean().min() > 0 and res.groupby('part')['male'].mean().min() > 0:\n",
        "    break\n",
        "\n",
        "print(\"Solution Fitness Values : {}\".format(solution_fitness))\n",
        "print(\"\\nSenior Pct by Part : \", res.groupby('part')['senior'].mean()*100)\n",
        "print(\"\\nMale Pct by Part : \", res.groupby('part')['male'].mean()*100)\n",
        "print(\"\\nResult : \")\n",
        "res.sort_values(by=['part', 'senior', 'male'])"
      ],
      "execution_count": null,
      "outputs": [
        {
          "output_type": "stream",
          "text": [
            "Solution Fitness Values : 0.19399538482577655\n",
            "\n",
            "Senior Pct by Part :  part\n",
            "0    50.000000\n",
            "1    33.333333\n",
            "2    33.333333\n",
            "3    50.000000\n",
            "Name: senior, dtype: float64\n",
            "\n",
            "Male Pct by Part :  part\n",
            "0    75.000000\n",
            "1    66.666667\n",
            "2    66.666667\n",
            "3    50.000000\n",
            "Name: male, dtype: float64\n",
            "\n",
            "Result : \n"
          ],
          "name": "stdout"
        },
        {
          "output_type": "execute_result",
          "data": {
            "text/html": [
              "<div>\n",
              "<style scoped>\n",
              "    .dataframe tbody tr th:only-of-type {\n",
              "        vertical-align: middle;\n",
              "    }\n",
              "\n",
              "    .dataframe tbody tr th {\n",
              "        vertical-align: top;\n",
              "    }\n",
              "\n",
              "    .dataframe thead th {\n",
              "        text-align: right;\n",
              "    }\n",
              "</style>\n",
              "<table border=\"1\" class=\"dataframe\">\n",
              "  <thead>\n",
              "    <tr style=\"text-align: right;\">\n",
              "      <th></th>\n",
              "      <th>name</th>\n",
              "      <th>part</th>\n",
              "      <th>senior</th>\n",
              "      <th>male</th>\n",
              "    </tr>\n",
              "  </thead>\n",
              "  <tbody>\n",
              "    <tr>\n",
              "      <th>11</th>\n",
              "      <td>SHJ</td>\n",
              "      <td>0</td>\n",
              "      <td>0</td>\n",
              "      <td>0</td>\n",
              "    </tr>\n",
              "    <tr>\n",
              "      <th>8</th>\n",
              "      <td>LWR</td>\n",
              "      <td>0</td>\n",
              "      <td>0</td>\n",
              "      <td>1</td>\n",
              "    </tr>\n",
              "    <tr>\n",
              "      <th>1</th>\n",
              "      <td>YHH</td>\n",
              "      <td>0</td>\n",
              "      <td>1</td>\n",
              "      <td>1</td>\n",
              "    </tr>\n",
              "    <tr>\n",
              "      <th>4</th>\n",
              "      <td>KMG</td>\n",
              "      <td>0</td>\n",
              "      <td>1</td>\n",
              "      <td>1</td>\n",
              "    </tr>\n",
              "    <tr>\n",
              "      <th>13</th>\n",
              "      <td>LDK</td>\n",
              "      <td>1</td>\n",
              "      <td>0</td>\n",
              "      <td>0</td>\n",
              "    </tr>\n",
              "    <tr>\n",
              "      <th>6</th>\n",
              "      <td>LDB</td>\n",
              "      <td>1</td>\n",
              "      <td>0</td>\n",
              "      <td>1</td>\n",
              "    </tr>\n",
              "    <tr>\n",
              "      <th>5</th>\n",
              "      <td>LDH</td>\n",
              "      <td>1</td>\n",
              "      <td>1</td>\n",
              "      <td>1</td>\n",
              "    </tr>\n",
              "    <tr>\n",
              "      <th>9</th>\n",
              "      <td>PJH</td>\n",
              "      <td>2</td>\n",
              "      <td>0</td>\n",
              "      <td>0</td>\n",
              "    </tr>\n",
              "    <tr>\n",
              "      <th>12</th>\n",
              "      <td>PJT</td>\n",
              "      <td>2</td>\n",
              "      <td>0</td>\n",
              "      <td>1</td>\n",
              "    </tr>\n",
              "    <tr>\n",
              "      <th>3</th>\n",
              "      <td>LIH</td>\n",
              "      <td>2</td>\n",
              "      <td>1</td>\n",
              "      <td>1</td>\n",
              "    </tr>\n",
              "    <tr>\n",
              "      <th>7</th>\n",
              "      <td>LYJ</td>\n",
              "      <td>3</td>\n",
              "      <td>0</td>\n",
              "      <td>0</td>\n",
              "    </tr>\n",
              "    <tr>\n",
              "      <th>10</th>\n",
              "      <td>JGE</td>\n",
              "      <td>3</td>\n",
              "      <td>0</td>\n",
              "      <td>0</td>\n",
              "    </tr>\n",
              "    <tr>\n",
              "      <th>0</th>\n",
              "      <td>KYJ</td>\n",
              "      <td>3</td>\n",
              "      <td>1</td>\n",
              "      <td>1</td>\n",
              "    </tr>\n",
              "    <tr>\n",
              "      <th>2</th>\n",
              "      <td>KHD</td>\n",
              "      <td>3</td>\n",
              "      <td>1</td>\n",
              "      <td>1</td>\n",
              "    </tr>\n",
              "  </tbody>\n",
              "</table>\n",
              "</div>"
            ],
            "text/plain": [
              "   name  part  senior  male\n",
              "11  SHJ     0       0     0\n",
              "8   LWR     0       0     1\n",
              "1   YHH     0       1     1\n",
              "4   KMG     0       1     1\n",
              "13  LDK     1       0     0\n",
              "6   LDB     1       0     1\n",
              "5   LDH     1       1     1\n",
              "9   PJH     2       0     0\n",
              "12  PJT     2       0     1\n",
              "3   LIH     2       1     1\n",
              "7   LYJ     3       0     0\n",
              "10  JGE     3       0     0\n",
              "0   KYJ     3       1     1\n",
              "2   KHD     3       1     1"
            ]
          },
          "metadata": {
            "tags": []
          },
          "execution_count": 100
        }
      ]
    }
  ]
}